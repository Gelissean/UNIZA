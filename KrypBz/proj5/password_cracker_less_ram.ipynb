{
 "cells": [
  {
   "cell_type": "code",
   "execution_count": 1,
   "outputs": [],
   "source": [
    "alphabet1 = \"abcdefghijklmnopqrstuvwxyz\"\n",
    "alphabet2 =\"abcdefghijklmnopqrstuvwxyzABCDEFGHIJKLMNOPQRSTUVWXYZ0123456789\"\n",
    "cpu_threads = 6"
   ],
   "metadata": {
    "collapsed": false,
    "pycharm": {
     "name": "#%%\n"
    }
   }
  },
  {
   "cell_type": "code",
   "execution_count": 2,
   "outputs": [],
   "source": [
    "from KrypBz.proj5.zdroje.crypt import crypt\n",
    "from KrypBz.tools.file_tools import read_file_lines\n",
    "from KrypBz.proj5.zdroje.weak_passwords import weak_passwords\n",
    "from multiprocessing import Pool\n",
    "import threading\n",
    "import numpy\n",
    "import time"
   ],
   "metadata": {
    "collapsed": false,
    "pycharm": {
     "name": "#%%\n"
    }
   }
  },
  {
   "cell_type": "code",
   "execution_count": 3,
   "outputs": [],
   "source": [
    "class Problem():\n",
    "    def __init__(self, name, salt, fingerprint):\n",
    "        self.name = name\n",
    "        self.salt = salt\n",
    "        self.fingerprint = fingerprint\n",
    "        self.unlocked = False\n",
    "        self.password = None\n",
    "\n",
    "    def _check_password(self, password):\n",
    "        encrypted = crypt(password, self.salt)\n",
    "        if encrypted.decode() == self.fingerprint:\n",
    "            self.password = password\n",
    "            self.unlocked = True\n",
    "        return self.unlocked\n",
    "\n",
    "    def _try_vocabulary(self):\n",
    "        # weak_passwords = []\n",
    "        for p in weak_passwords:\n",
    "            if self._check_password(p):\n",
    "                return self.unlocked\n",
    "            for i in range(len(p)): # check one Upper char variants\n",
    "                if self._check_password(p[:i] + p[i].upper() + p[i+1:]):\n",
    "                    return self.unlocked\n",
    "        return self.unlocked\n",
    "\n",
    "    def _try_passwords(self):\n",
    "        for c1 in alphabet1:\n",
    "            for c2 in alphabet1:\n",
    "                for c3 in alphabet1:\n",
    "                    for c4 in alphabet1:\n",
    "                        for c5 in alphabet1:\n",
    "                            for c6 in alphabet1:\n",
    "                                if self._check_password(''.join([c1,c2,c3,c4,c5,c6])):\n",
    "                                    return self.unlocked\n",
    "                                for c7 in alphabet1:\n",
    "                                    if self._check_password(''.join([c1,c2,c3,c4,c5,c6,c7])):\n",
    "                                        return self.unlocked\n",
    "\n",
    "        for c1 in alphabet2:\n",
    "            for c2 in alphabet2:\n",
    "                for c3 in alphabet2:\n",
    "                    for c4 in alphabet2:\n",
    "                        if self._check_password(''.join([c1,c2,c3,c4])):\n",
    "                            return self.unlocked\n",
    "                        for c5 in alphabet2:\n",
    "                            if self._check_password(''.join([c1,c2,c3,c4,c5])):\n",
    "                                    return self.unlocked\n",
    "        return self.unlocked\n",
    "\n",
    "    def attempt_unlocking(self):\n",
    "        if self._try_vocabulary():\n",
    "            return self.unlocked\n",
    "        if self._try_passwords():\n",
    "            return self.unlocked\n",
    "        return self.unlocked"
   ],
   "metadata": {
    "collapsed": false,
    "pycharm": {
     "name": "#%%\n"
    }
   }
  },
  {
   "cell_type": "code",
   "execution_count": 4,
   "outputs": [],
   "source": [
    "def unlock_users(users):\n",
    "    for u in users:\n",
    "        u.attempt_unlocking()\n",
    "\n",
    "def unlock_users_parallel(users, thread_count):\n",
    "    threads = []\n",
    "    user_lists = numpy.array_split(users, thread_count)\n",
    "    for i in range(thread_count):\n",
    "        t = threading.Thread(target=unlock_users, args=([user_lists[i].tolist()]))\n",
    "        threads.append(t)\n",
    "        t.start()\n",
    "    for t in threads:\n",
    "        t.join()"
   ],
   "metadata": {
    "collapsed": false,
    "pycharm": {
     "name": "#%%\n"
    }
   }
  },
  {
   "cell_type": "code",
   "execution_count": 5,
   "outputs": [],
   "source": [
    "from KrypBz.proj5.password_cracker_pool_function import unlock_users_pool\n",
    "\n",
    "def unlock_users_parallel_pool(users, thread_count):\n",
    "    with Pool(thread_count) as pool:\n",
    "        return pool.map(unlock_users_pool, users)"
   ],
   "metadata": {
    "collapsed": false,
    "pycharm": {
     "name": "#%%\n"
    }
   }
  },
  {
   "cell_type": "code",
   "execution_count": 6,
   "outputs": [],
   "source": [
    "def unlock_file(path):\n",
    "    lines = read_file_lines(path)\n",
    "    print(lines)\n",
    "    print(len(lines))\n",
    "    users = []\n",
    "    for l in lines:\n",
    "        users.append(Problem(*(l.rstrip().split(':'))))\n",
    "    # unlock_users_parallel(users, cpu_threads)\n",
    "    users = unlock_users_parallel_pool(users, cpu_threads)\n",
    "    output = []\n",
    "    for u in users:\n",
    "        if u.unlocked:\n",
    "            output.append(u)\n",
    "    return output\n",
    "\n",
    "def print_users(users):\n",
    "    for u in users:\n",
    "        print(u.name + \":\\t\" + u.password)"
   ],
   "metadata": {
    "collapsed": false,
    "pycharm": {
     "name": "#%%\n"
    }
   }
  },
  {
   "cell_type": "code",
   "execution_count": null,
   "outputs": [
    {
     "name": "stdout",
     "output_type": "stream",
     "text": [
      "['styrak:XrMzPyGR:spohYVWZLKN70o2Z0FAYdg==\\n', 'kanik:TBMT0KXT:iX/u1ErpVntILT4m9yCSrQ==\\n', 'svrcek14:aDSlosC7:7jIy8VkUJNtm9QwW16x4qQ==\\n', 'paluch:97sSrhFn:/eZB3PLEu8ZCYoHIViEc9Q==\\n', 'ondrisek:5qNXOrEP:ytLbvN/gtRhK5QREvLNXaQ==\\n', 'poliakov:FcISumF6:FAW0P9fXhx4QFl72ppukCA==\\n', 'varackov:YKebnths:ZMLYzoNBPmAyzP4jRk/CgA==\\n', 'pastorek6:nTrIezS3:lel033Nr50xOyM8oVGJ3xQ==\\n', 'brezani7:BQwKPf1d:ZTSjn+WW419VVBhAbe4sfg==\\n', 'stepanov:PIhXxYrO:6/sYBPSrOjWX6Iqv6ULUFA==\\n', 'rychnavs:dydRYjXg:y1jrEADvFrceouCeGfLdLw==\\n', 'glemba:eioGLHtt:oUYwPxFAnXhJzFDZFfM/fw==\\n', 'kubik:SXlgkIDp:/Im4sWDmSnkMPLWNJNALnA==\\n', 'fratrikova7:xt5nvQwh:3Owp+cBtZUDWQWWglG0QWA==\\n', 'hajtinger:Md2Ol43H:xR/eVx0g1/4xw7Lqcs6mFA==\\n', 'kochlan4:lGcH4jnN:Tr4eLNFL4hKTP9uiU6y3tw==\\n', 'franek17:E4Hfvczh:rC2Vktgpyi8ZuA3xkWdbhQ==\\n', 'balak:s1KvQ1My:Yw36hcWSfQ+7uOlE+6KKGg==\\n', 'kopacova:FIPArVBO:CAM8IKapg2oqPhjjg3OAkw==\\n', 'pallova:rBDtC0Sr:To7/6wbybvUFz8wyjpjeZQ==\\n', 'urbanico:F91MuYfW:UvmTd4camIE7QH6Y2vijqw==\\n', 'kalous:Oo93CZ28:kj1nrpmAOu3sK5tH7O64YQ==\\n', 'urban14:0OPmlCkH:5C9B50Bkbt6/24BjwxfxOw==\\n', 'ecker:xHgEP7Vx:pk8S+Rnna8/rkK6rk68dYw==\\n', 'sagan00:LdZIpk4T:cPx9UGsZ6HdirrZePpt1tw==\\n', 'turoci2:xTq1YZ9S:LCUlMN5kdYYG8HwKiRPQpA==\\n', 'zuscakv:4JlaY05s:OnEvE1gI5V3/RmIwikCKhg==\\n', 'durinat:2saOEER0:PCYFG4QKUCe/eAIR66WBlQ==\\n', 'szabo22:smjoWoI6:Mftyn7YhLDv9n3lD46K3ng==\\n', 'pitak3:puRuSx9m:V663s2nqFwY3NWYRf/tMeA==\\n', 'visnovsl:Z4Hzg0g1:HWXcODDHBzzneOqCeQkDiQ==\\n', 'burgel:A8G50a7A:vaq0kGX8l8rNhvYyN6IJqw==\\n', 'kontroso:rInRKJAI:I467L+6vVVwfNQ2QWBCsyg==\\n', 'vrab5:rcJmyRZ7:T6N/cHKmsGi6nqhpH+QM8w==\\n', 'slavikm:qig5e5Vb:w+ltuI73fd0vSPo0bafqRA==\\n', 'kordiak:twI2coEv:zwV+6rA2321z3zjC2dIu6w==\\n', 'krajciko:lTBZf1B7:5RhbQh68W7L9SHxgEFT+Bw==\\n', 'pachnik:xsA8xVm8:UIGcxeNgkvBiNEso9/VbJA==\\n', 'bednarik6:lbnhOXtq:mSQnuRZNz9kWfKIlOSpWug==\\n', 'potkan3:EzDgTbf3:M1QljW7ENUjIrOYWfLTJhg==\\n', 'lovas4:i3LkH3QY:WW356rps3osE5DhVjo2/QA==\\n', 'stancel5:7AtHd6To:pzNJ6Az/5WKIR75PFp0gwA==\\n', 'augustin:97ft0gd5:R5xIz7PSkzA79nDryM02/Q==\\n', 'stech:WAoAFl8R:T/cveA1hRN9v3V+C+eDLpg==\\n', 'simanm:XEpa5ceK:zdvBenuEfL/YQsPvJVHbzQ==\\n', 'kyselp:yhxmdV1D:yaBeiGyPgh7maxbgp+T1Kw==\\n', 'skovajso:HW4KonG2:nmiETLYLqsUWAq+r8zmb5A==\\n', 'scensna:cl9fi9Ds:w8HD2JUyVb9icKPplkxyvQ==\\n', 'filipv:CajVZqTp:RGQmt14FpMnt+NuoP3ew7Q==\\n', 'kristek2:CUqnjo2q:VpDHOxPHGwZjIDa+ziD90g==\\n', 'palaj:EuU9jycS:GXRUIjPyX25FkpsZKM86qw==\\n', 'soukal:qeh9nWWc:iVNyiczBJUNSXFejfC23Nw==\\n', 'mazurak:LTIPTIZr:sJ66ngg6M9FUoFO9uoV6yA==\\n', 'matusova1:kmDqDyUy:vREiRCuG8pTKNA2E7ZPX6Q==\\n', 'kysela9:O7cKREAq:lruGMRytGKSm5t5VMjNG4Q==\\n', 'cavosova:ZJkVhZG0:3CBrH8Ys8NSVjf33bIl23g==\\n', 'gelcinsk:OpcJQuGN:ItY0fG7Ufkj9xCFj86QL1g==\\n', 'herckop:dz5ZBHx6:1c0cH6/4jtGwVhb+WHgO4A==\\n', 'muzikova:hzINHpXD:mUptxlz3pAaF0J8HoZOYEg==\\n', 'kubas:JdUeLWAw:l2R74E8M1ELz7aUwYO32Zw==\\n', 'gruchalakova:EzBmmpWS:DT/HGY9GnJgmws11AuGssw==\\n', 'cibulkov:TBWrEWwF:78wPGHCfZXjQ7NpNqrA+gw==\\n', 'babiak:rLaoRgs8:gHYPQo19iFYkh7POvgfp9Q==\\n', 'fain:EGRTCfGF:XPybMcOTOVWIFo2sPRa3hA==\\n', 'nemecm:2d0Var2d:326cZ6WU/Sx7CZf+3EUWKg==\\n', 'grondzak:KuupYJOt:749fx5u8qEpfVEmOCL9+mw==\\n', 'veselovs:B34RZX3q:ymRinvQMeLU6pDwdOLVAxw==\\n', 'stana3:7AhTFUYU:YKhWxOUOSMWmLWKr1p2SEw==\\n', 'hujom:wS2D7XwQ:yGYHsvWR/gwX8LUD0+zA4A==\\n', 'spacek2:PHIBjJDC:ESDqY36jTDx4HuZ7DWYedQ==\\n', 'pretenhofer:CKCt1x9J:Y8PbjjagS42Mkd88rzEJMw==\\n', 'uhrik:fxCRuHQl:a5UEIjCOHxW/HJmiian7IQ==\\n', 'kurka:NPYF7UdX:HhlMv3CtrWe86vW4btvCqA==\\n', 'simom:RU6IK3Xt:nug/HOLMdrHKaYzUbghtPg==\\n', 'matlon:g9ZICItt:jyJFAwzS/P9XTgKaudDCGw==\\n', 'parimuch:hUa9TCgo:yOuH9r0VCWbx9Pz+yKgWAA==\\n', 'rau:sJlqP0DU:+sr6elE2x8qS5AWfFuEeWg==\\n', 'kubica5:BHuRIFmc:jrgWHzXaE7wncAiVEngjeA==\\n', 'slovakova5:BHIlmnuA:QHQu1YMQxa88nxawLjf5aw==\\n', 'blazej:gGMjoJRd:W/k97d61OcZSklFouxfCkg==\\n', 'motycak1:lLtVa00O:cYxrV2B6f745iWDXZrf6Cg==\\n', 'banas:bImlJqQ8:OFf9EXg+6WZ/EYVAGVUkrg==\\n', 'piecka:bWtQfmP9:FUJ+qe21SB3aHxMxht2w4A==\\n', 'jokel:fmo9AN1y:bF+2c01I5in8tZtJnxieMw==\\n', 'palenik:EG3Yfoy9:DCJTtn+pxt7TF85TBEXdiQ==\\n', 'hanzlikd:G3gugPhh:ZCqQ6xaUNgpGl8/yp05nHA==\\n', 'dvonc2:Nc6kYDW3:I+Xz5cNVLZGq6ZUvOtML9Q==\\n', 'kmetik:yD7bym3k:0e+vmIudAg7n7ZKwJGdyEA==\\n', 'aujesky:OKP6pjcZ:mYeAFwABHafLXQ9H7WHGIw==\\n', 'petran:o6JYvC1i:3pIUCkXoWy2Uxl6CuuGoEg==\\n', 'psenak2:Mu0Kz5LG:NRuwPIszST9rL/T+rAI3Gw==\\n', 'valek3:b9JhDTxm:m7bsbtgsTitBSH87JI5fUA==\\n', 'kovac35:LovT6PJq:sHGZX/obWszP7vQ/FTH1AQ==\\n', 'hrin:IKB80UvS:APvClkB1IeSzSfaiB0OXlw==\\n', 'bartosik2:MhNAEdWO:p3GQztAGIW16toaDL5mFAw==\\n', 'frniak5:wdKeERjt:Cvq4IulOiauBqz36sWlpdA==\\n', 'putera:irYYVHuc:zY8od2wi1l9huNGtdotM9g==\\n', 'rybanska3:Ibm4KH9I:7eCwF3Xbte3q9B6zHIQ4ow==\\n', 'klaudiny:1EYGYYgo:+orEV1MNjVvwypeNruEUSA==\\n', 'papan5:gtqgReMT:RPkGBfzmMweyNsiDPdFLaw==\\n']\n",
      "100\n"
     ]
    }
   ],
   "source": [
    "if __name__ == \"__main__\":\n",
    "    ts = time.time()\n",
    "    unlocked = unlock_file(\"./zdroje/shadow1.txt\")\n",
    "    print_users(unlocked)\n",
    "    print(time.time()-ts)"
   ],
   "metadata": {
    "collapsed": false,
    "pycharm": {
     "name": "#%%\n",
     "is_executing": true
    }
   }
  },
  {
   "cell_type": "code",
   "execution_count": null,
   "outputs": [],
   "source": [
    "if __name__ == \"__main__\":\n",
    "    ts = time.time()\n",
    "    unlocked = unlock_file(\"./zdroje/shadow2.txt\")\n",
    "    print_users(unlocked)\n",
    "    print(time.time()-ts)"
   ],
   "metadata": {
    "collapsed": false,
    "pycharm": {
     "name": "#%%\n",
     "is_executing": true
    }
   }
  },
  {
   "cell_type": "code",
   "execution_count": null,
   "outputs": [],
   "source": [
    "if __name__ == \"__main__\":\n",
    "    ts = time.time()\n",
    "    unlocked = unlock_file(\"./zdroje/shadow3.txt\")\n",
    "    print_users(unlocked)\n",
    "    print(time.time()-ts)"
   ],
   "metadata": {
    "collapsed": false,
    "pycharm": {
     "name": "#%%\n",
     "is_executing": true
    }
   }
  },
  {
   "cell_type": "code",
   "execution_count": null,
   "outputs": [],
   "source": [
    "if __name__ == \"__main__\":\n",
    "    ts = time.time()\n",
    "    unlocked = unlock_file(\"./zdroje/shadow4.txt\")\n",
    "    print_users(unlocked)\n",
    "    print(time.time()-ts)"
   ],
   "metadata": {
    "collapsed": false,
    "pycharm": {
     "name": "#%%\n",
     "is_executing": true
    }
   }
  }
 ],
 "metadata": {
  "kernelspec": {
   "display_name": "Python 3",
   "language": "python",
   "name": "python3"
  },
  "language_info": {
   "codemirror_mode": {
    "name": "ipython",
    "version": 2
   },
   "file_extension": ".py",
   "mimetype": "text/x-python",
   "name": "python",
   "nbconvert_exporter": "python",
   "pygments_lexer": "ipython2",
   "version": "2.7.6"
  }
 },
 "nbformat": 4,
 "nbformat_minor": 0
}