{
 "cells": [
  {
   "cell_type": "code",
   "execution_count": 19,
   "metadata": {},
   "outputs": [],
   "source": [
    "# Eratostenove sito na hladanie prvocisel mensich ako zadane n\n",
    "\n",
    "def getPrimes(n):\n",
    "    sito = [1 for k in range(0,n)]\n",
    "    for i in range(2,n):\n",
    "        if sito[i] == 1:\n",
    "            for j in range(2*i,n,i):\n",
    "                sito[j] = 0\n",
    "                \n",
    "    primes = [k for k in range(2,n) if sito[k] == 1]\n",
    "    return primes"
   ]
  },
  {
   "cell_type": "code",
   "execution_count": 20,
   "metadata": {},
   "outputs": [
    {
     "name": "stdout",
     "output_type": "stream",
     "text": [
      "Zoznam prvocisel: [2, 3, 5, 7, 11, 13, 17, 19, 23, 29, 31, 37, 41, 43, 47, 53, 59, 61, 67, 71, 73, 79, 83, 89, 97]\n"
     ]
    }
   ],
   "source": [
    "# vytvorenie zoznamu prvocisel\n",
    "\n",
    "primes = getPrimes(100)\n",
    "print(\"Zoznam prvocisel:\", primes)"
   ]
  },
  {
   "cell_type": "code",
   "execution_count": 21,
   "metadata": {},
   "outputs": [],
   "source": [
    "# generovanie nahodneho prvocisla zo zoznamu\n",
    "\n",
    "import random\n",
    "\n",
    "def randPrime(primes):\n",
    "    index = random.randrange(len(primes))\n",
    "    return primes[index]"
   ]
  },
  {
   "cell_type": "code",
   "execution_count": 26,
   "metadata": {},
   "outputs": [
    {
     "name": "stdout",
     "output_type": "stream",
     "text": [
      "Vygenerovane nahodne cisla p = 71 , q = 73\n"
     ]
    }
   ],
   "source": [
    "# vygenerovanie dvoch roznych prvocisel pre RSA algoritmus\n",
    "\n",
    "while True:\n",
    "    p = randPrime(primes)\n",
    "    q = randPrime(primes)\n",
    "    if p != q and p > 20 and q > 20:\n",
    "        break\n",
    "        \n",
    "print(\"Vygenerovane nahodne cisla p =\", p,\", q =\", q)"
   ]
  },
  {
   "cell_type": "code",
   "execution_count": 27,
   "metadata": {},
   "outputs": [
    {
     "name": "stdout",
     "output_type": "stream",
     "text": [
      "Modulus n = p * q = 5183\n"
     ]
    }
   ],
   "source": [
    "# modulus je sucin prvocisel\n",
    "\n",
    "n = p * q\n",
    "print(\"Modulus n = p * q =\", n)"
   ]
  },
  {
   "cell_type": "code",
   "execution_count": 28,
   "metadata": {},
   "outputs": [
    {
     "name": "stdout",
     "output_type": "stream",
     "text": [
      "5040\n"
     ]
    }
   ],
   "source": [
    "# vypocet hodnoty Eulerovej funkcie fi(n) pre modulus n\n",
    "# (pocet nesudelitelnych cisel s n mensich ako n)\n",
    "# v tomto pripade je to (p-1) * (q - 1)\n",
    "\n",
    "fi_n = (p - 1) * (q - 1)\n",
    "print(fi_n)"
   ]
  },
  {
   "cell_type": "code",
   "execution_count": 33,
   "metadata": {},
   "outputs": [
    {
     "name": "stdout",
     "output_type": "stream",
     "text": [
      "x = 4084\n",
      "4084 ^ 5040 mod 5183 = 1\n"
     ]
    }
   ],
   "source": [
    "# plati, ze umocnenie lubovolneho x na fi(n) modulo n musi byt rovne 1\n",
    "\n",
    "x = random.randrange(1,n)\n",
    "print(\"x\", \"=\", x)\n",
    "print(x, \"^\", fi_n, \"mod\", n, \"=\", pow(x,fi_n,n))"
   ]
  },
  {
   "cell_type": "code",
   "execution_count": 34,
   "metadata": {},
   "outputs": [],
   "source": [
    "# Euklidov algoritmus na najdenie najvacsieho spolocneho delitela dvoch cisel\n",
    "\n",
    "def gcd(a, b):\n",
    "    while b != 0:\n",
    "        a, b = b, a % b\n",
    "    return a"
   ]
  },
  {
   "cell_type": "code",
   "execution_count": 35,
   "metadata": {},
   "outputs": [
    {
     "name": "stdout",
     "output_type": "stream",
     "text": [
      "Najvacsi spolocny delitel 45 a 60 je 15\n"
     ]
    }
   ],
   "source": [
    "print(\"Najvacsi spolocny delitel 45 a 60 je\", gcd(45, 60))"
   ]
  },
  {
   "cell_type": "code",
   "execution_count": 36,
   "metadata": {},
   "outputs": [
    {
     "name": "stdout",
     "output_type": "stream",
     "text": [
      "Verejny exponent e =  11\n",
      "Verejny kluc pre RSA algoritmus bude (n, e) = ( 5183 , 11 )\n"
     ]
    }
   ],
   "source": [
    "# musim zvolit take e, aby bolo nesudelitelne s fi(n)\n",
    "# t.j. gcd(e,fi(n)) musi byt rovne 1\n",
    "# e sa voli vacsinou ako relativne male prvocislo (realne som nevidel ine ako 65537)\n",
    "# nazyva sa aj verejny exponent\n",
    "\n",
    "for p in primes:\n",
    "    e = p\n",
    "    if gcd(e,fi_n) == 1:\n",
    "        break\n",
    "        \n",
    "print(\"Verejny exponent e = \", e)\n",
    "print(\"Verejny kluc pre RSA algoritmus bude (n, e) = (\", n, \",\", e, \")\")"
   ]
  },
  {
   "cell_type": "code",
   "execution_count": 37,
   "metadata": {},
   "outputs": [
    {
     "name": "stdout",
     "output_type": "stream",
     "text": [
      "Privatny exponent d = e^(-1) mod fi(n) = 2291\n",
      "e * d mod fi(n) = 11 * 2291 mod 5040 = 1\n",
      "Privatny kluc RSA algoritmu (n, d) = ( 5183 , 2291 )\n"
     ]
    }
   ],
   "source": [
    "# privatny exponent d vypocitam tak, aby platilo\n",
    "# e * d mod fi(n) == 1\n",
    "\n",
    "# na to budem potrebovat rozsireny Euklidov algoritmus\n",
    "def egcd(a, b):\n",
    "    u0, u1, v0, v1 = 1, 0, 0, 1\n",
    "    while b != 0:\n",
    "        q, a, b = a // b, b, a % b\n",
    "        u0, u1 = u1, u0 - q * u1\n",
    "        v0, v1 = v1, v0 - q * v1\n",
    "    return  a, u0, v0\n",
    "\n",
    "# Inverzny prvok modulo sa potom vypocita lahko\n",
    "def modInverse(a, n):\n",
    "    gcd, u, v = egcd(a, n)\n",
    "    if gcd == 1:\n",
    "        return u % n\n",
    "    \n",
    "d = modInverse(e, fi_n)\n",
    "print(\"Privatny exponent d = e^(-1) mod fi(n) =\", d)\n",
    "print(\"e * d mod fi(n) =\", e, \"*\", d, \"mod\", fi_n, \"=\", e * d % fi_n)\n",
    "print(\"Privatny kluc RSA algoritmu (n, d) = (\", n, \",\", d, \")\")\n"
   ]
  },
  {
   "cell_type": "code",
   "execution_count": 38,
   "metadata": {},
   "outputs": [
    {
     "name": "stdout",
     "output_type": "stream",
     "text": [
      "Spravu x = 123 zasifrujem pomocou verejneho kluca na y = x^e mod n = 123 ^ 11 mod 5183 = 1143\n"
     ]
    }
   ],
   "source": [
    "# Ak chcem niekomu poslat zasifrovanu spravu (cislo)\n",
    "# potrebujem jeho verejny kluc (prijimatela sifrovanej spravy)\n",
    "\n",
    "x = 123\n",
    "y = pow(x, e, n)\n",
    "print(\"Spravu x =\", x, \"zasifrujem pomocou verejneho kluca na y = x^e mod n =\", x, \"^\", e, \"mod\", n, \"=\", y)"
   ]
  },
  {
   "cell_type": "code",
   "execution_count": 39,
   "metadata": {},
   "outputs": [
    {
     "name": "stdout",
     "output_type": "stream",
     "text": [
      "Sifrovanu spravu y = 1143 desifrujem pomocou privatneho kluca na x = y^d mod n = 1143 ^ 2291 mod 5183 = 123\n"
     ]
    }
   ],
   "source": [
    "# Prijimatel spravu desifruje pomocou svojho privatneho kluca\n",
    "\n",
    "xx = pow(y, d, n)\n",
    "print(\"Sifrovanu spravu y =\", y, \"desifrujem pomocou privatneho kluca na x = y^d mod n =\", y, \"^\", d, \"mod\", n, \"=\", xx)"
   ]
  },
  {
   "cell_type": "code",
   "execution_count": 40,
   "metadata": {},
   "outputs": [
    {
     "name": "stdout",
     "output_type": "stream",
     "text": [
      "Rozklad modulu n = 5183 na prvocinitele: [(71, 1), (73, 1)]\n"
     ]
    }
   ],
   "source": [
    "# Prelomenie verejneho kluca znamena \"uhadnut\" prvocisla p a q, z ktorych bolo vypocitane n\n",
    "# Pre male to nie je problem pomocou faktorizacie s postupnym delenim\n",
    "\n",
    "def factorize(n):\n",
    "    result = []\n",
    "    i = 2\n",
    "    while (n > 1):\n",
    "        j = 0;\n",
    "        while (n % i == 0):\n",
    "            n = n / i\n",
    "            j = j + 1\n",
    "        if (j > 0):\n",
    "            result.append((i,j))\n",
    "        i = i + 1\n",
    "    return result\n",
    "\n",
    "print(\"Rozklad modulu n =\", n, \"na prvocinitele:\", factorize(n))"
   ]
  },
  {
   "cell_type": "code",
   "execution_count": 41,
   "metadata": {},
   "outputs": [
    {
     "name": "stdout",
     "output_type": "stream",
     "text": [
      "Rozklad modulu n = 13169004533 na prvocinitele: [(101279, 1), (130027, 1)]\n"
     ]
    }
   ],
   "source": [
    "n = 56341958081545199783\n",
    "print(\"Rozklad modulu n =\", n, \"na prvocinitele:\", factorize(n))"
   ]
  },
  {
   "cell_type": "code",
   "execution_count": 42,
   "metadata": {},
   "outputs": [],
   "source": [
    "p = 101279\n",
    "q = 130027"
   ]
  },
  {
   "cell_type": "code",
   "execution_count": 43,
   "metadata": {},
   "outputs": [
    {
     "name": "stdout",
     "output_type": "stream",
     "text": [
      "13169004533\n"
     ]
    }
   ],
   "source": [
    "n = p * q\n",
    "print(n)"
   ]
  },
  {
   "cell_type": "code",
   "execution_count": 44,
   "metadata": {},
   "outputs": [
    {
     "name": "stdout",
     "output_type": "stream",
     "text": [
      "13168773228\n"
     ]
    }
   ],
   "source": [
    "fi_n = (p-1)*(q-1)\n",
    "print(fi_n)"
   ]
  },
  {
   "cell_type": "code",
   "execution_count": 45,
   "metadata": {},
   "outputs": [
    {
     "name": "stdout",
     "output_type": "stream",
     "text": [
      "72739001\n"
     ]
    }
   ],
   "source": [
    "e = 65537\n",
    "d = modInverse(e,fi_n)\n",
    "print(d)"
   ]
  },
  {
   "cell_type": "code",
   "execution_count": 46,
   "metadata": {},
   "outputs": [
    {
     "name": "stdout",
     "output_type": "stream",
     "text": [
      "1234567890\n"
     ]
    }
   ],
   "source": [
    "y = 6029832903\n",
    "x = pow(y,d,n)\n",
    "print(x)"
   ]
  },
  {
   "cell_type": "code",
   "execution_count": null,
   "metadata": {},
   "outputs": [],
   "source": []
  }
 ],
 "metadata": {
  "kernelspec": {
   "display_name": "Python 3",
   "language": "python",
   "name": "python3"
  },
  "language_info": {
   "codemirror_mode": {
    "name": "ipython",
    "version": 3
   },
   "file_extension": ".py",
   "mimetype": "text/x-python",
   "name": "python",
   "nbconvert_exporter": "python",
   "pygments_lexer": "ipython3",
   "version": "3.5.3"
  },
  "latex_envs": {
   "LaTeX_envs_menu_present": true,
   "autoclose": false,
   "autocomplete": true,
   "bibliofile": "biblio.bib",
   "cite_by": "apalike",
   "current_citInitial": 1,
   "eqLabelWithNumbers": true,
   "eqNumInitial": 1,
   "hotkeys": {
    "equation": "Ctrl-E",
    "itemize": "Ctrl-I"
   },
   "labels_anchors": false,
   "latex_user_defs": false,
   "report_style_numbering": false,
   "user_envs_cfg": false
  }
 },
 "nbformat": 4,
 "nbformat_minor": 2
}
