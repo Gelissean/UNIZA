{
 "cells": [
  {
   "cell_type": "code",
   "execution_count": 7,
   "outputs": [],
   "source": [
    "generator1 = (\"abcdefghijklmnopqrstuvwxyz\", 7)\n",
    "generator2 = (\"abcdefghijklmnopqrstuvwxyzABCDEFGHIJKLMNOPQRSTUVWXYZ0123456789\", 5)\n",
    "cpu_threads = 6"
   ],
   "metadata": {
    "collapsed": false,
    "pycharm": {
     "name": "#%%\n"
    }
   }
  },
  {
   "cell_type": "code",
   "execution_count": 8,
   "metadata": {
    "collapsed": true
   },
   "outputs": [],
   "source": [
    "from KrypBz.proj5.zdroje.crypt import crypt\n",
    "from KrypBz.tools.file_tools import read_file_lines\n",
    "import threading\n",
    "import numpy"
   ]
  },
  {
   "cell_type": "code",
   "execution_count": 9,
   "outputs": [],
   "source": [
    "class Problem():\n",
    "    def __init__(self, name, salt, fingerprint):\n",
    "        self.name = name\n",
    "        self.salt = salt\n",
    "        self.fingerprint = fingerprint\n",
    "        self.unlocked = False\n",
    "        self.password = None\n",
    "\n",
    "    def attempt_unlocking(self, passwords):\n",
    "        for p in passwords:\n",
    "            encrypted = crypt(p, self.salt)\n",
    "            if encrypted.decode() == self.fingerprint:\n",
    "                self.password = p\n",
    "                self.unlocked = True\n",
    "                break\n",
    "        return self.unlocked"
   ],
   "metadata": {
    "collapsed": false,
    "pycharm": {
     "name": "#%%\n"
    }
   }
  },
  {
   "cell_type": "code",
   "execution_count": 10,
   "outputs": [],
   "source": [
    "def unlock_users(users, passwords):\n",
    "    for u in users:\n",
    "        u.attempt_unlocking(passwords)\n",
    "\n",
    "def unlock_users_parallel(users, passwords, threads):\n",
    "    threads = []\n",
    "    user_lists = numpy.array_split(users, threads)\n",
    "    for i in range(cpu_threads):\n",
    "        t = threading.Thread(target=unlock_users, args=(user_lists[i], passwords))\n",
    "        threads.append(t)\n",
    "        t.start()\n",
    "    for t in threads:\n",
    "        t.join()\n",
    "\n",
    "def unlock_file(path, passwords):\n",
    "    lines = read_file_lines(path)\n",
    "    print(lines)\n",
    "    print(len(lines))\n",
    "    users = []\n",
    "    for l in lines:\n",
    "        users.append(Problem(*(l.rstrip().split(':'))))\n",
    "    unlock_users_parallel(users, passwords, cpu_threads)\n",
    "    output = []\n",
    "    for u in users:\n",
    "        if u.unlocked:\n",
    "            output.append(u)\n",
    "    return output\n",
    "\n",
    "def print_users(users):\n",
    "    for u in users:\n",
    "        print(u.name + \":\\t\" + u.password)"
   ],
   "metadata": {
    "collapsed": false,
    "pycharm": {
     "name": "#%%\n"
    }
   }
  },
  {
   "cell_type": "code",
   "execution_count": 12,
   "outputs": [
    {
     "ename": "MemoryError",
     "evalue": "",
     "output_type": "error",
     "traceback": [
      "\u001B[1;31m---------------------------------------------------------------------------\u001B[0m",
      "\u001B[1;31mMemoryError\u001B[0m                               Traceback (most recent call last)",
      "\u001B[1;32m~\\AppData\\Local\\Temp/ipykernel_30400/798443582.py\u001B[0m in \u001B[0;36m<module>\u001B[1;34m\u001B[0m\n\u001B[0;32m     21\u001B[0m     \u001B[1;32mreturn\u001B[0m \u001B[0mgenerate_vocabulary\u001B[0m\u001B[1;33m(\u001B[0m\u001B[1;33m)\u001B[0m \u001B[1;33m+\u001B[0m \u001B[0mgenerate_all\u001B[0m\u001B[1;33m(\u001B[0m\u001B[1;33m*\u001B[0m\u001B[0mgenerator1\u001B[0m\u001B[1;33m)\u001B[0m \u001B[1;33m+\u001B[0m \u001B[0mgenerate_all\u001B[0m\u001B[1;33m(\u001B[0m\u001B[1;33m*\u001B[0m\u001B[0mgenerator2\u001B[0m\u001B[1;33m)\u001B[0m\u001B[1;33m\u001B[0m\u001B[1;33m\u001B[0m\u001B[0m\n\u001B[0;32m     22\u001B[0m \u001B[1;33m\u001B[0m\u001B[0m\n\u001B[1;32m---> 23\u001B[1;33m \u001B[0mpasswords\u001B[0m \u001B[1;33m=\u001B[0m \u001B[0mgenerate_passwords\u001B[0m\u001B[1;33m(\u001B[0m\u001B[1;33m)\u001B[0m\u001B[1;33m\u001B[0m\u001B[1;33m\u001B[0m\u001B[0m\n\u001B[0m\u001B[0;32m     24\u001B[0m \u001B[1;33m\u001B[0m\u001B[0m\n",
      "\u001B[1;32m~\\AppData\\Local\\Temp/ipykernel_30400/798443582.py\u001B[0m in \u001B[0;36mgenerate_passwords\u001B[1;34m()\u001B[0m\n\u001B[0;32m     19\u001B[0m \u001B[1;33m\u001B[0m\u001B[0m\n\u001B[0;32m     20\u001B[0m \u001B[1;32mdef\u001B[0m \u001B[0mgenerate_passwords\u001B[0m\u001B[1;33m(\u001B[0m\u001B[1;33m)\u001B[0m\u001B[1;33m:\u001B[0m\u001B[1;33m\u001B[0m\u001B[1;33m\u001B[0m\u001B[0m\n\u001B[1;32m---> 21\u001B[1;33m     \u001B[1;32mreturn\u001B[0m \u001B[0mgenerate_vocabulary\u001B[0m\u001B[1;33m(\u001B[0m\u001B[1;33m)\u001B[0m \u001B[1;33m+\u001B[0m \u001B[0mgenerate_all\u001B[0m\u001B[1;33m(\u001B[0m\u001B[1;33m*\u001B[0m\u001B[0mgenerator1\u001B[0m\u001B[1;33m)\u001B[0m \u001B[1;33m+\u001B[0m \u001B[0mgenerate_all\u001B[0m\u001B[1;33m(\u001B[0m\u001B[1;33m*\u001B[0m\u001B[0mgenerator2\u001B[0m\u001B[1;33m)\u001B[0m\u001B[1;33m\u001B[0m\u001B[1;33m\u001B[0m\u001B[0m\n\u001B[0m\u001B[0;32m     22\u001B[0m \u001B[1;33m\u001B[0m\u001B[0m\n\u001B[0;32m     23\u001B[0m \u001B[0mpasswords\u001B[0m \u001B[1;33m=\u001B[0m \u001B[0mgenerate_passwords\u001B[0m\u001B[1;33m(\u001B[0m\u001B[1;33m)\u001B[0m\u001B[1;33m\u001B[0m\u001B[1;33m\u001B[0m\u001B[0m\n",
      "\u001B[1;32m~\\AppData\\Local\\Temp/ipykernel_30400/798443582.py\u001B[0m in \u001B[0;36mgenerate_all\u001B[1;34m(alphabet, characters)\u001B[0m\n\u001B[0;32m     15\u001B[0m     \u001B[1;32mfor\u001B[0m \u001B[0me\u001B[0m \u001B[1;32min\u001B[0m \u001B[0ma\u001B[0m\u001B[1;33m:\u001B[0m \u001B[1;31m#element\u001B[0m\u001B[1;33m\u001B[0m\u001B[1;33m\u001B[0m\u001B[0m\n\u001B[0;32m     16\u001B[0m         \u001B[1;32mfor\u001B[0m \u001B[0mc\u001B[0m \u001B[1;32min\u001B[0m \u001B[0malphabet\u001B[0m\u001B[1;33m:\u001B[0m\u001B[1;33m\u001B[0m\u001B[1;33m\u001B[0m\u001B[0m\n\u001B[1;32m---> 17\u001B[1;33m             \u001B[0mb\u001B[0m\u001B[1;33m.\u001B[0m\u001B[0mappend\u001B[0m\u001B[1;33m(\u001B[0m\u001B[0me\u001B[0m\u001B[1;33m+\u001B[0m\u001B[0mc\u001B[0m\u001B[1;33m)\u001B[0m\u001B[1;33m\u001B[0m\u001B[1;33m\u001B[0m\u001B[0m\n\u001B[0m\u001B[0;32m     18\u001B[0m     \u001B[1;32mreturn\u001B[0m \u001B[0ma\u001B[0m \u001B[1;33m+\u001B[0m \u001B[0mb\u001B[0m\u001B[1;33m\u001B[0m\u001B[1;33m\u001B[0m\u001B[0m\n\u001B[0;32m     19\u001B[0m \u001B[1;33m\u001B[0m\u001B[0m\n",
      "\u001B[1;31mMemoryError\u001B[0m: "
     ]
    }
   ],
   "source": [
    "def generate_vocabulary():\n",
    "    return []\n",
    "\n",
    "def generate_all(alphabet, characters):\n",
    "    a = []\n",
    "    b = []\n",
    "    for c in alphabet: #character\n",
    "        a.append(c)\n",
    "    for i in range(1, 4):\n",
    "        for e in a: #element\n",
    "            for c in alphabet:\n",
    "                b.append(e+c)\n",
    "        a = b\n",
    "        b = []\n",
    "    for e in a: #element\n",
    "        for c in alphabet:\n",
    "            b.append(e+c)\n",
    "    return a + b\n",
    "\n",
    "def generate_passwords():\n",
    "    return generate_vocabulary() + generate_all(*generator1) + generate_all(*generator2)\n",
    "\n",
    "passwords = generate_passwords()"
   ],
   "metadata": {
    "collapsed": false,
    "pycharm": {
     "name": "#%%\n"
    }
   }
  },
  {
   "cell_type": "code",
   "execution_count": null,
   "outputs": [],
   "source": [
    "unlocked = unlock_file(\"./zdroje/shadow1.txt\", passwords)\n",
    "print_users(unlocked)"
   ],
   "metadata": {
    "collapsed": false,
    "pycharm": {
     "name": "#%%\n"
    }
   }
  },
  {
   "cell_type": "code",
   "execution_count": null,
   "outputs": [],
   "source": [
    "unlocked = unlock_file(\"./zdroje/shadow2.txt\", passwords)\n",
    "print_users(unlocked)"
   ],
   "metadata": {
    "collapsed": false,
    "pycharm": {
     "name": "#%%\n"
    }
   }
  },
  {
   "cell_type": "code",
   "execution_count": null,
   "outputs": [],
   "source": [
    "unlocked = unlock_file(\"./zdroje/shadow3.txt\", passwords)\n",
    "print_users(unlocked)"
   ],
   "metadata": {
    "collapsed": false,
    "pycharm": {
     "name": "#%%\n"
    }
   }
  },
  {
   "cell_type": "code",
   "execution_count": null,
   "outputs": [],
   "source": [
    "unlocked = unlock_file(\"./zdroje/shadow4.txt\", passwords)\n",
    "print_users(unlocked)"
   ],
   "metadata": {
    "collapsed": false,
    "pycharm": {
     "name": "#%%\n"
    }
   }
  }
 ],
 "metadata": {
  "kernelspec": {
   "display_name": "Python 3",
   "language": "python",
   "name": "python3"
  },
  "language_info": {
   "codemirror_mode": {
    "name": "ipython",
    "version": 2
   },
   "file_extension": ".py",
   "mimetype": "text/x-python",
   "name": "python",
   "nbconvert_exporter": "python",
   "pygments_lexer": "ipython2",
   "version": "2.7.6"
  }
 },
 "nbformat": 4,
 "nbformat_minor": 0
}